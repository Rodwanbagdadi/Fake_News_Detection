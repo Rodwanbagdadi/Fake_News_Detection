{
 "cells": [
  {
   "cell_type": "code",
   "execution_count": null,
   "id": "df9594cb",
   "metadata": {},
   "outputs": [],
   "source": [
    "import pickle\n",
    "from sklearn.feature_extraction.text import TfidfVectorizer\n",
    "from sklearn.linear_model import LogisticRegression\n",
    "\n",
    "# 1. Create a fake dataset\n",
    "texts = [\n",
    "    \"Breaking news: This is real news\",\n",
    "    \"Shocking discovery: Fake news everywhere\",\n",
    "    \"Authentic sources confirm real information\",\n",
    "    \"Scandalous lies spread fake stories\",\n",
    "]\n",
    "labels = [1, 0, 1, 0]  # 1 = Real, 0 = Fake\n",
    "\n",
    "# 2. Create vectorizer and transform texts\n",
    "vectorizer = TfidfVectorizer()\n",
    "X = vectorizer.fit_transform(texts)\n",
    "\n",
    "# 3. Train a simple model\n",
    "model = LogisticRegression()\n",
    "model.fit(X, labels)\n",
    "\n",
    "# 4. Save model and vectorizer\n",
    "with open('models/model.pkl', 'wb') as model_file:\n",
    "    pickle.dump(model, model_file)\n",
    "\n",
    "with open('models/vectorizer.pkl', 'wb') as vectorizer_file:\n",
    "    pickle.dump(vectorizer, vectorizer_file)\n",
    "\n",
    "print(\"✅ Fake model and vectorizer saved successfully!\")\n"
   ]
  }
 ],
 "metadata": {
  "kernelspec": {
   "display_name": "base",
   "language": "python",
   "name": "python3"
  },
  "language_info": {
   "name": "python",
   "version": "3.12.7"
  }
 },
 "nbformat": 4,
 "nbformat_minor": 5
}
