{
 "cells": [
  {
   "cell_type": "code",
   "execution_count": 1,
   "id": "39c74043",
   "metadata": {},
   "outputs": [],
   "source": [
    "from flask import Flask, request, render_template\n",
    "import pickle\n",
    "import re\n",
    "import nltk\n",
    "from nltk.corpus import stopwords\n",
    "from nltk.stem import PorterStemmer\n",
    "from sklearn.feature_extraction.text import TfidfVectorizer\n",
    "import os"
   ]
  },
  {
   "cell_type": "code",
   "execution_count": 2,
   "id": "5acb7708",
   "metadata": {},
   "outputs": [],
   "source": [
    "#Creat an app object using the flask class\n",
    "app = Flask(__name__)"
   ]
  },
  {
   "cell_type": "code",
   "execution_count": 3,
   "id": "3de43e58",
   "metadata": {},
   "outputs": [
    {
     "name": "stderr",
     "output_type": "stream",
     "text": [
      "[nltk_data] Downloading package punkt to\n",
      "[nltk_data]     C:\\Users\\OMEN\\AppData\\Roaming\\nltk_data...\n",
      "[nltk_data]   Package punkt is already up-to-date!\n",
      "[nltk_data] Downloading package stopwords to\n",
      "[nltk_data]     C:\\Users\\OMEN\\AppData\\Roaming\\nltk_data...\n",
      "[nltk_data]   Package stopwords is already up-to-date!\n"
     ]
    }
   ],
   "source": [
    "# Download NLTK resources\n",
    "nltk.download('punkt')\n",
    "nltk.download('stopwords')\n",
    "stop_words = set(stopwords.words('english'))\n",
    "portStemmer = PorterStemmer()"
   ]
  },
  {
   "cell_type": "code",
   "execution_count": 4,
   "id": "dee8d518",
   "metadata": {},
   "outputs": [],
   "source": [
    "# Load model and vectorizer\n",
    "model_path = os.path.join('models', 'model.pkl')\n",
    "vectorizer_path = os.path.join('models', 'vectorizer.pkl')\n",
    "\n",
    "try:\n",
    "    with open(model_path, 'rb') as file:\n",
    "        model = pickle.load(file)\n",
    "    with open(vectorizer_path, 'rb') as file:\n",
    "        vectorizer = pickle.load(file)\n",
    "except Exception as e:\n",
    "    model = None\n",
    "    vectorizer = None\n",
    "    print(f\"Error loading model/vectorizer: {e}\")"
   ]
  },
  {
   "cell_type": "code",
   "execution_count": 5,
   "id": "b1f05616",
   "metadata": {},
   "outputs": [],
   "source": [
    "def clean(text):\n",
    "    text = text.lower()\n",
    "    text = re.sub(r'[^a-zA-Z\\s]', '', text)\n",
    "    return text\n",
    "\n",
    "def preprocess(text):\n",
    "    text = clean(text)\n",
    "    tokens = [portStemmer.stem(word) for word in text.split() if word not in stop_words]\n",
    "    return ' '.join(tokens)"
   ]
  },
  {
   "cell_type": "code",
   "execution_count": 6,
   "id": "66bc731d",
   "metadata": {},
   "outputs": [],
   "source": [
    "@app.route('/')\n",
    "def home():\n",
    "    return render_template('index.html')"
   ]
  },
  {
   "cell_type": "code",
   "execution_count": 7,
   "id": "26062ce4",
   "metadata": {},
   "outputs": [
    {
     "name": "stdout",
     "output_type": "stream",
     "text": [
      " * Serving Flask app '__main__'\n",
      " * Debug mode: on\n"
     ]
    },
    {
     "name": "stderr",
     "output_type": "stream",
     "text": [
      "WARNING: This is a development server. Do not use it in a production deployment. Use a production WSGI server instead.\n",
      " * Running on http://127.0.0.1:5000\n",
      "Press CTRL+C to quit\n",
      "127.0.0.1 - - [26/Apr/2025 14:11:39] \"GET / HTTP/1.1\" 200 -\n",
      "127.0.0.1 - - [26/Apr/2025 14:11:39] \"GET /favicon.ico HTTP/1.1\" 404 -\n",
      "127.0.0.1 - - [26/Apr/2025 14:11:43] \"POST /predict HTTP/1.1\" 200 -\n",
      "127.0.0.1 - - [26/Apr/2025 14:11:57] \"POST /predict HTTP/1.1\" 200 -\n",
      "127.0.0.1 - - [26/Apr/2025 14:11:59] \"POST /predict HTTP/1.1\" 200 -\n",
      "127.0.0.1 - - [26/Apr/2025 14:12:02] \"POST /predict HTTP/1.1\" 200 -\n"
     ]
    }
   ],
   "source": [
    "#Define the route to be home \n",
    "#The decorator below links the relative route of the URL to the function it is dec\n",
    "#Here, home function is with '/', our root directory.\n",
    "# Running the app sends us to index.html.\n",
    "# Note that the render_template means it looks for the file in the templates folder. \n",
    "#use the route() decorator to tell Flask what URL should trigger our function.\n",
    "@app.route('/predict', methods=['POST'])\n",
    "def predict():\n",
    "    if model is None or vectorizer is None:\n",
    "        return render_template('index.html', prediction_text='Model not loaded correctly.')\n",
    "\n",
    "    try:\n",
    "        article_text = request.form['article']\n",
    "        processed_text = preprocess(article_text)\n",
    "        features = vectorizer.transform([processed_text])\n",
    "        prediction = model.predict(features)\n",
    "\n",
    "        output = \"REAL\" if prediction[0] == 1 else \"FAKE\"\n",
    "        return render_template('index.html', prediction_text=f'This news is {output}')\n",
    "    except Exception as e:\n",
    "        print(f\"Error during prediction: {e}\")\n",
    "        return render_template('index.html', prediction_text='Error during prediction.')\n",
    "\n",
    "\n",
    "if __name__ == \"__main__\":\n",
    "    app.run(debug=True, use_reloader=False)\n"
   ]
  }
 ],
 "metadata": {
  "kernelspec": {
   "display_name": "base",
   "language": "python",
   "name": "python3"
  },
  "language_info": {
   "codemirror_mode": {
    "name": "ipython",
    "version": 3
   },
   "file_extension": ".py",
   "mimetype": "text/x-python",
   "name": "python",
   "nbconvert_exporter": "python",
   "pygments_lexer": "ipython3",
   "version": "3.12.7"
  }
 },
 "nbformat": 4,
 "nbformat_minor": 5
}
